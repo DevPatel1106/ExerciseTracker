{
 "cells": [
  {
   "cell_type": "code",
   "execution_count": 24,
   "id": "e9eca212",
   "metadata": {},
   "outputs": [],
   "source": [
    "import numpy as np\n",
    "from tensorflow.keras.models import Sequential\n",
    "from tensorflow.keras.layers import Bidirectional, LSTM, Dropout, Dense\n",
    "from tensorflow.keras.optimizers import Adam\n",
    "from tensorflow.keras.utils import to_categorical\n",
    "from sklearn.model_selection import train_test_split\n",
    "from sklearn.preprocessing import StandardScaler"
   ]
  },
  {
   "cell_type": "code",
   "execution_count": 25,
   "id": "c6cd6b7e",
   "metadata": {},
   "outputs": [],
   "source": [
    "import mediapipe as mp\n",
    "import numpy as np\n",
    "import cv2\n",
    "import math\n",
    "\n",
    "mp_pose = mp.solutions.pose\n",
    "pose = mp_pose.Pose(static_image_mode=False)\n",
    "\n",
    "# Define landmark indices for coordinates (22 key points)\n",
    "KEYPOINTS = [\n",
    "    mp_pose.PoseLandmark.LEFT_SHOULDER,\n",
    "    mp_pose.PoseLandmark.RIGHT_SHOULDER,\n",
    "    mp_pose.PoseLandmark.LEFT_HIP,\n",
    "    mp_pose.PoseLandmark.RIGHT_HIP,\n",
    "    mp_pose.PoseLandmark.LEFT_KNEE,\n",
    "    mp_pose.PoseLandmark.RIGHT_KNEE,\n",
    "    mp_pose.PoseLandmark.LEFT_ELBOW,\n",
    "    mp_pose.PoseLandmark.RIGHT_ELBOW,\n",
    "    mp_pose.PoseLandmark.LEFT_WRIST,\n",
    "    mp_pose.PoseLandmark.RIGHT_WRIST,\n",
    "    mp_pose.PoseLandmark.LEFT_ANKLE,\n",
    "    mp_pose.PoseLandmark.RIGHT_ANKLE,\n",
    "    mp_pose.PoseLandmark.LEFT_HEEL,\n",
    "    mp_pose.PoseLandmark.RIGHT_HEEL,\n",
    "    mp_pose.PoseLandmark.LEFT_FOOT_INDEX,\n",
    "    mp_pose.PoseLandmark.RIGHT_FOOT_INDEX,\n",
    "    mp_pose.PoseLandmark.LEFT_PINKY,\n",
    "    mp_pose.PoseLandmark.RIGHT_PINKY,\n",
    "    mp_pose.PoseLandmark.LEFT_INDEX,\n",
    "    mp_pose.PoseLandmark.RIGHT_INDEX,\n",
    "    mp_pose.PoseLandmark.RIGHT_THUMB,\n",
    "    mp_pose.PoseLandmark.LEFT_THUMB\n",
    "]\n",
    "\n",
    "# Define angle triplets (shoulders, hips, elbows, knees, etc.)\n",
    "ANGLE_TRIPLETS = [\n",
    "    (mp_pose.PoseLandmark.LEFT_HIP, mp_pose.PoseLandmark.LEFT_SHOULDER, mp_pose.PoseLandmark.LEFT_ELBOW),\n",
    "    (mp_pose.PoseLandmark.RIGHT_HIP, mp_pose.PoseLandmark.RIGHT_SHOULDER, mp_pose.PoseLandmark.RIGHT_ELBOW),\n",
    "    (mp_pose.PoseLandmark.LEFT_SHOULDER, mp_pose.PoseLandmark.LEFT_ELBOW, mp_pose.PoseLandmark.LEFT_WRIST),\n",
    "    (mp_pose.PoseLandmark.RIGHT_SHOULDER, mp_pose.PoseLandmark.RIGHT_ELBOW, mp_pose.PoseLandmark.RIGHT_WRIST),\n",
    "    (mp_pose.PoseLandmark.LEFT_HIP, mp_pose.PoseLandmark.LEFT_KNEE, mp_pose.PoseLandmark.LEFT_ANKLE),\n",
    "    (mp_pose.PoseLandmark.RIGHT_HIP, mp_pose.PoseLandmark.RIGHT_KNEE, mp_pose.PoseLandmark.RIGHT_ANKLE),\n",
    "    (mp_pose.PoseLandmark.LEFT_SHOULDER, mp_pose.PoseLandmark.LEFT_HIP, mp_pose.PoseLandmark.LEFT_KNEE),\n",
    "    (mp_pose.PoseLandmark.RIGHT_SHOULDER, mp_pose.PoseLandmark.RIGHT_HIP, mp_pose.PoseLandmark.RIGHT_KNEE),\n",
    "    (mp_pose.PoseLandmark.LEFT_KNEE, mp_pose.PoseLandmark.LEFT_ANKLE, mp_pose.PoseLandmark.LEFT_HEEL),\n",
    "    (mp_pose.PoseLandmark.RIGHT_KNEE, mp_pose.PoseLandmark.RIGHT_ANKLE, mp_pose.PoseLandmark.RIGHT_HEEL),\n",
    "    (mp_pose.PoseLandmark.LEFT_ANKLE, mp_pose.PoseLandmark.LEFT_HEEL, mp_pose.PoseLandmark.LEFT_FOOT_INDEX),\n",
    "    (mp_pose.PoseLandmark.RIGHT_ANKLE, mp_pose.PoseLandmark.RIGHT_HEEL, mp_pose.PoseLandmark.RIGHT_FOOT_INDEX)\n",
    "]\n",
    "\n",
    "def calculate_angle(a, b, c):\n",
    "    \"\"\"Compute angle between three landmarks.\"\"\"\n",
    "    a, b, c = np.array(a), np.array(b), np.array(c)\n",
    "    ba, bc = a - b, c - b\n",
    "    cosine_angle = np.dot(ba, bc) / (np.linalg.norm(ba) * np.linalg.norm(bc) + 1e-6)\n",
    "    return np.degrees(np.arccos(np.clip(cosine_angle, -1.0, 1.0)))\n",
    "\n",
    "def extract_features_from_frame(frame):\n",
    "    \"\"\"Extract 78 features: 66 coordinates + 12 angles from a video frame.\"\"\"\n",
    "    results = pose.process(cv2.cvtColor(frame, cv2.COLOR_BGR2RGB))\n",
    "\n",
    "    if not results.pose_landmarks:\n",
    "        return None  # Could not detect body\n",
    "\n",
    "    landmarks = results.pose_landmarks.landmark\n",
    "    coords = []\n",
    "    for kp in KEYPOINTS:\n",
    "        x, y, z = landmarks[kp.value].x, landmarks[kp.value].y, landmarks[kp.value].z\n",
    "        coords.extend([x, y, z])\n",
    "\n",
    "    angles = []\n",
    "    for a, b, c in ANGLE_TRIPLETS:\n",
    "        point_a = [landmarks[a.value].x, landmarks[a.value].y]\n",
    "        point_b = [landmarks[b.value].x, landmarks[b.value].y]\n",
    "        point_c = [landmarks[c.value].x, landmarks[c.value].y]\n",
    "        angles.append(calculate_angle(point_a, point_b, point_c))\n",
    "\n",
    "    return np.array(coords + angles)  # Total: 66 + 12 = 78 features\n"
   ]
  },
  {
   "cell_type": "code",
   "execution_count": null,
   "id": "915a77a0",
   "metadata": {},
   "outputs": [],
   "source": [
    "import cv2\n",
    "import os\n",
    "import numpy as np\n",
    "# import extract_features_from_frame as efff\n",
    "\n",
    "def process_video_to_sequences(video_path, label, sequence_length=30):\n",
    "    cap = cv2.VideoCapture(video_path)\n",
    "    sequence = []\n",
    "    data = []\n",
    "\n",
    "    while cap.isOpened():\n",
    "        ret, frame = cap.read()\n",
    "        if not ret:\n",
    "            break\n",
    "        features = extract_features_from_frame(frame)\n",
    "        if features is not None:\n",
    "            sequence.append(features)\n",
    "            if len(sequence) == sequence_length:\n",
    "                data.append((np.array(sequence), label))\n",
    "                sequence = []  # Reset for next segment\n",
    "\n",
    "    cap.release()\n",
    "    return data  # List of (30, 78), label\n"
   ]
  },
  {
   "cell_type": "code",
   "execution_count": null,
   "id": "db6c0d99",
   "metadata": {},
   "outputs": [],
   "source": [
    "# don't run\n",
    "\n",
    "import glob\n",
    "from sklearn.model_selection import train_test_split\n",
    "from sklearn.preprocessing import LabelEncoder\n",
    "\n",
    "all_data = []\n",
    "labels = []\n",
    "\n",
    "exercise_dirs = {\n",
    "    \"squat\": \"dataset/squat/*.mp4\",\n",
    "    \"pushup\": \"dataset/pushup/*.mp4\",\n",
    "    \"bicep_curl\": \"dataset/bicep_curl/*.mp4\",\n",
    "    \"shoulder_press\": \"dataset/shoulder_press/*.mp4\"\n",
    "}\n",
    "\n",
    "for label, pattern in exercise_dirs.items():\n",
    "    video_paths = glob.glob(pattern)\n",
    "    for vp in video_paths:\n",
    "        clips = process_video_to_sequences(vp, label)\n",
    "        all_data.extend(clips)\n",
    "\n",
    "# Unpack\n",
    "X = np.array([clip for clip, _ in all_data])\n",
    "y = np.array([label for _, label in all_data])"
   ]
  },
  {
   "cell_type": "code",
   "execution_count": null,
   "id": "083463a5",
   "metadata": {},
   "outputs": [],
   "source": [
    "# don't run\n",
    "from sklearn.preprocessing import StandardScaler\n",
    "from tensorflow.keras.utils import to_categorical\n",
    "\n",
    "# Encode class labels\n",
    "le = LabelEncoder()\n",
    "y_encoded = le.fit_transform(y)\n",
    "y_categorical = to_categorical(y_encoded)\n",
    "\n",
    "# Normalize features\n",
    "scaler = StandardScaler()\n",
    "X_scaled = X.reshape(-1, X.shape[2])  # (samples * timesteps, features)\n",
    "X_scaled = scaler.fit_transform(X_scaled).reshape(X.shape)  # Back to (samples, 30, 78)\n"
   ]
  },
  {
   "cell_type": "code",
   "execution_count": null,
   "id": "7fd0075a",
   "metadata": {},
   "outputs": [],
   "source": [
    "# don't run\n",
    "X_train, X_test, y_train, y_test = train_test_split(X_scaled, y_categorical, test_size=0.2, random_state=42)\n",
    "# Save everything for later use\n",
    "np.savez_compressed(\"train_test_data.npz\", \n",
    "                    X_train=X_train, X_test=X_test, \n",
    "                    y_train=y_train, y_test=y_test,\n",
    "                    label_classes=le.classes_)"
   ]
  },
  {
   "cell_type": "code",
   "execution_count": 26,
   "id": "f02e9c16",
   "metadata": {},
   "outputs": [
    {
     "name": "stdout",
     "output_type": "stream",
     "text": [
      "Train shape: (1822, 30, 78), Test shape: (456, 30, 78)\n",
      "Classes: ['bicep_curl' 'pushup' 'shoulder_press' 'squat']\n"
     ]
    }
   ],
   "source": [
    "import numpy as np\n",
    "\n",
    "data = np.load(\"train_test_data.npz\")\n",
    "X_train = data[\"X_train\"]\n",
    "X_test = data[\"X_test\"]\n",
    "y_train = data[\"y_train\"]\n",
    "y_test = data[\"y_test\"]\n",
    "label_classes = data[\"label_classes\"]\n",
    "\n",
    "print(f\"Train shape: {X_train.shape}, Test shape: {X_test.shape}\")\n",
    "print(f\"Classes: {label_classes}\")\n"
   ]
  },
  {
   "cell_type": "code",
   "execution_count": 27,
   "id": "2768e563",
   "metadata": {},
   "outputs": [],
   "source": [
    "from tensorflow.keras.models import Sequential\n",
    "from tensorflow.keras.layers import Bidirectional, LSTM, Dropout, Dense\n",
    "from tensorflow.keras.optimizers import Adam\n",
    "\n",
    "model = Sequential([\n",
    "    Bidirectional(LSTM(73, return_sequences=True), input_shape=(30, 78)),\n",
    "    Dropout(0.2174),\n",
    "    Bidirectional(LSTM(73)),\n",
    "    Dropout(0.2174),\n",
    "    Dense(64, activation='relu'),\n",
    "    Dense(y_train.shape[1], activation='softmax')\n",
    "])\n",
    "\n",
    "model.compile(optimizer=Adam(learning_rate=0.0004),\n",
    "              loss='categorical_crossentropy',\n",
    "              metrics=['accuracy'])\n"
   ]
  },
  {
   "cell_type": "code",
   "execution_count": null,
   "id": "472fa499",
   "metadata": {},
   "outputs": [],
   "source": [
    "history = model.fit(X_train, y_train,\n",
    "                    validation_split=0.2,\n",
    "                    epochs=20,\n",
    "                    batch_size=54,\n",
    "                    verbose=1)\n"
   ]
  },
  {
   "cell_type": "code",
   "execution_count": null,
   "id": "1ce3672e",
   "metadata": {},
   "outputs": [],
   "source": [
    "test_loss, test_acc = model.evaluate(X_test, y_test)\n",
    "print(f\"\\n✅ Test Accuracy: {test_acc:.4f}\")\n",
    "\n",
    "# Save model\n",
    "model.save(\"bilstm_model.h5\")\n"
   ]
  },
  {
   "cell_type": "code",
   "execution_count": null,
   "id": "22ca11e4",
   "metadata": {},
   "outputs": [],
   "source": [
    "from keras.models import Sequential\n",
    "from keras.layers import Dense\n",
    "from keras.utils.vis_utils import plot_model\n",
    "!pip install pydot\n",
    "\n",
    "plot_model(model, to_file='model.png')"
   ]
  },
  {
   "cell_type": "code",
   "execution_count": null,
   "id": "803b50eb",
   "metadata": {},
   "outputs": [],
   "source": [
    "import pickle\n",
    "# Saving the LabelEncoder (for encoding the labels during prediction)\n",
    "with open('label_encoder.pkl', 'wb') as f:\n",
    "    pickle.dump(le, f)\n",
    "\n",
    "# Saving the StandardScaler (for scaling the features during prediction)\n",
    "with open('scaler.pkl', 'wb') as f:\n",
    "    pickle.dump(scaler, f)"
   ]
  },
  {
   "cell_type": "code",
   "execution_count": null,
   "id": "cd3e00c1",
   "metadata": {},
   "outputs": [],
   "source": [
    "model.summary()"
   ]
  },
  {
   "cell_type": "code",
   "execution_count": null,
   "id": "b28a4d97",
   "metadata": {},
   "outputs": [],
   "source": [
    "import matplotlib.pyplot as plt\n",
    "\n",
    "# Plot Accuracy Graph\n",
    "plt.plot(history.history['accuracy'], label='Train Accuracy')\n",
    "plt.plot(history.history['val_accuracy'], label='Validation Accuracy')\n",
    "plt.title('Training and Validation Accuracy')\n",
    "plt.xlabel('Epoch')\n",
    "plt.ylabel('Accuracy')\n",
    "plt.legend()\n",
    "plt.grid(True)\n",
    "plt.show()\n"
   ]
  },
  {
   "cell_type": "code",
   "execution_count": null,
   "id": "f7695975",
   "metadata": {},
   "outputs": [],
   "source": [
    "from sklearn.metrics import confusion_matrix, ConfusionMatrixDisplay\n",
    "\n",
    "# Evaluate on test set\n",
    "y_pred_probs = model.predict(X_test)\n",
    "y_pred = np.argmax(y_pred_probs, axis=1)\n",
    "y_true = np.argmax(y_test, axis=1)\n",
    "\n",
    "# Confusion Matrix\n",
    "cm = confusion_matrix(y_true, y_pred)\n",
    "disp = ConfusionMatrixDisplay(confusion_matrix=cm)\n",
    "disp.plot(cmap=plt.cm.Blues)\n",
    "plt.title('Confusion Matrix')\n",
    "plt.show()"
   ]
  },
  {
   "cell_type": "markdown",
   "id": "c7a5fce9",
   "metadata": {},
   "source": [
    "CNN+LTSM"
   ]
  },
  {
   "cell_type": "code",
   "execution_count": null,
   "id": "e529b429",
   "metadata": {},
   "outputs": [],
   "source": [
    "from tensorflow.keras.models import Sequential\n",
    "from tensorflow.keras.layers import Conv1D, MaxPooling1D, LSTM, Dense, Dropout\n",
    "\n",
    "model_cnn_lstm = Sequential([\n",
    "    Conv1D(64, kernel_size=3, activation='relu', input_shape=(30, 78)),\n",
    "    MaxPooling1D(pool_size=2),\n",
    "    Dropout(0.3),\n",
    "\n",
    "    Conv1D(128, kernel_size=3, activation='relu'),\n",
    "    MaxPooling1D(pool_size=2),\n",
    "    Dropout(0.3),\n",
    "\n",
    "    LSTM(64),\n",
    "    Dense(64, activation='relu'),\n",
    "    Dropout(0.3),\n",
    "    Dense(y_train.shape[1], activation='softmax')\n",
    "])\n",
    "\n"
   ]
  },
  {
   "cell_type": "code",
   "execution_count": null,
   "id": "d2a81ea8",
   "metadata": {},
   "outputs": [],
   "source": [
    "model_cnn_lstm.compile(optimizer='adam', loss='categorical_crossentropy', metrics=['accuracy'])\n"
   ]
  },
  {
   "cell_type": "code",
   "execution_count": null,
   "id": "f31f5389",
   "metadata": {},
   "outputs": [],
   "source": [
    "history = model_cnn_lstm.fit(X_train, y_train,\n",
    "                    validation_split=0.2,\n",
    "                    epochs=20,\n",
    "                    batch_size=54,\n",
    "                    verbose=1)\n",
    "test_loss, test_acc = model_cnn_lstm.evaluate(X_test, y_test)"
   ]
  },
  {
   "cell_type": "code",
   "execution_count": null,
   "id": "ee1903d4",
   "metadata": {},
   "outputs": [],
   "source": [
    "print(f\"\\n✅ Test Accuracy: {test_acc:.4f}\")\n",
    "\n",
    "# Save model\n",
    "model_cnn_lstm.save(\"lstm_model.h5\")\n",
    "model_cnn_lstm.summary()"
   ]
  },
  {
   "cell_type": "code",
   "execution_count": null,
   "id": "1d1c658e",
   "metadata": {},
   "outputs": [],
   "source": [
    "import matplotlib.pyplot as plt\n",
    "\n",
    "# Plot Accuracy Graph\n",
    "plt.plot(history.history['accuracy'], label='Train Accuracy')\n",
    "plt.plot(history.history['val_accuracy'], label='Validation Accuracy')\n",
    "plt.title('Training and Validation Accuracy')\n",
    "plt.xlabel('Epoch')\n",
    "plt.ylabel('Accuracy')\n",
    "plt.legend()\n",
    "plt.grid(True)\n",
    "plt.show()"
   ]
  },
  {
   "cell_type": "code",
   "execution_count": null,
   "id": "01923757",
   "metadata": {},
   "outputs": [],
   "source": [
    "from sklearn.metrics import confusion_matrix, ConfusionMatrixDisplay\n",
    "\n",
    "# Evaluate on test set\n",
    "y_pred_probs = model_cnn_lstm.predict(X_test)\n",
    "y_pred = np.argmax(y_pred_probs, axis=1)\n",
    "y_true = np.argmax(y_test, axis=1)\n",
    "\n",
    "# Confusion Matrix\n",
    "cm = confusion_matrix(y_true, y_pred)\n",
    "disp = ConfusionMatrixDisplay(confusion_matrix=cm)\n",
    "disp.plot(cmap=plt.cm.Blues)\n",
    "plt.title('Confusion Matrix')\n",
    "plt.show()"
   ]
  },
  {
   "cell_type": "markdown",
   "id": "b8c98672",
   "metadata": {},
   "source": [
    "TCN"
   ]
  },
  {
   "cell_type": "code",
   "execution_count": null,
   "id": "bf0f3182",
   "metadata": {},
   "outputs": [],
   "source": [
    "!pip install keras-tcn"
   ]
  },
  {
   "cell_type": "code",
   "execution_count": null,
   "id": "bfca15d6",
   "metadata": {},
   "outputs": [],
   "source": [
    "from tensorflow.keras.models import Sequential\n",
    "from tensorflow.keras.layers import Dense\n",
    "from tcn import TCN\n",
    "\n",
    "model_tcn = Sequential([\n",
    "    TCN(input_shape=(30, 78)),  # TCN replaces LSTM layers\n",
    "    Dense(64, activation='relu'),\n",
    "    Dense(y_train.shape[1], activation='softmax')\n",
    "])\n",
    "\n",
    "model_tcn.compile(optimizer='adam', loss='categorical_crossentropy', metrics=['accuracy'])\n",
    "model_tcn.summary()\n"
   ]
  },
  {
   "cell_type": "code",
   "execution_count": null,
   "id": "17c07353",
   "metadata": {},
   "outputs": [],
   "source": [
    "history = model_tcn.fit(X_train, y_train,\n",
    "                    validation_split=0.2,\n",
    "                    epochs=20,\n",
    "                    batch_size=54,\n",
    "                    verbose=1)\n",
    "test_loss, test_acc = model_tcn.evaluate(X_test, y_test)"
   ]
  },
  {
   "cell_type": "code",
   "execution_count": null,
   "id": "e471bab7",
   "metadata": {},
   "outputs": [],
   "source": [
    "print(f\"\\n✅ Test Accuracy: {test_acc:.4f}\")\n",
    "\n",
    "# Save model\n",
    "model_tcn.save(\"tcn_model.h5\")\n",
    "# model_tcn.summary()"
   ]
  },
  {
   "cell_type": "code",
   "execution_count": null,
   "id": "c1cb636b",
   "metadata": {},
   "outputs": [],
   "source": [
    "import matplotlib.pyplot as plt\n",
    "\n",
    "# Plot Accuracy Graph\n",
    "plt.plot(history.history['accuracy'], label='Train Accuracy')\n",
    "plt.plot(history.history['val_accuracy'], label='Validation Accuracy')\n",
    "plt.title('Training and Validation Accuracy')\n",
    "plt.xlabel('Epoch')\n",
    "plt.ylabel('Accuracy')\n",
    "plt.legend()\n",
    "plt.grid(True)\n",
    "plt.show()"
   ]
  },
  {
   "cell_type": "code",
   "execution_count": null,
   "id": "f66f8f99",
   "metadata": {},
   "outputs": [],
   "source": [
    "from sklearn.metrics import confusion_matrix, ConfusionMatrixDisplay\n",
    "\n",
    "# Evaluate on test set\n",
    "y_pred_probs = model_tcn.predict(X_test)\n",
    "y_pred = np.argmax(y_pred_probs, axis=1)\n",
    "y_true = np.argmax(y_test, axis=1)\n",
    "\n",
    "# Confusion Matrix\n",
    "cm = confusion_matrix(y_true, y_pred)\n",
    "disp = ConfusionMatrixDisplay(confusion_matrix=cm)\n",
    "disp.plot(cmap=plt.cm.Blues)\n",
    "plt.title('Confusion Matrix')\n",
    "plt.show()"
   ]
  },
  {
   "cell_type": "markdown",
   "id": "dd0ab55f",
   "metadata": {},
   "source": [
    "BiLSTM + Attention"
   ]
  },
  {
   "cell_type": "code",
   "execution_count": 33,
   "id": "172d3d0e",
   "metadata": {},
   "outputs": [
    {
     "name": "stdout",
     "output_type": "stream",
     "text": [
      "Model: \"model\"\n",
      "_________________________________________________________________\n",
      " Layer (type)                Output Shape              Param #   \n",
      "=================================================================\n",
      " input_1 (InputLayer)        [(None, 30, 78)]          0         \n",
      "                                                                 \n",
      " bidirectional_4 (Bidirectio  (None, 30, 146)          88768     \n",
      " nal)                                                            \n",
      "                                                                 \n",
      " dropout_4 (Dropout)         (None, 30, 146)           0         \n",
      "                                                                 \n",
      " bidirectional_5 (Bidirectio  (None, 30, 146)          128480    \n",
      " nal)                                                            \n",
      "                                                                 \n",
      " dropout_5 (Dropout)         (None, 30, 146)           0         \n",
      "                                                                 \n",
      " attention (Attention)       (None, 146)               176       \n",
      "                                                                 \n",
      " dense_4 (Dense)             (None, 64)                9408      \n",
      "                                                                 \n",
      " dense_5 (Dense)             (None, 4)                 260       \n",
      "                                                                 \n",
      "=================================================================\n",
      "Total params: 227,092\n",
      "Trainable params: 227,092\n",
      "Non-trainable params: 0\n",
      "_________________________________________________________________\n"
     ]
    }
   ],
   "source": [
    "from tensorflow.keras.models import Model\n",
    "from tensorflow.keras.layers import Input, Bidirectional, LSTM, Dense, Dropout, Layer\n",
    "import tensorflow.keras.backend as K\n",
    "import tensorflow as tf\n",
    "\n",
    "# Custom Attention Layer\n",
    "class Attention(Layer):\n",
    "    def __init__(self, **kwargs):\n",
    "        super(Attention, self).__init__(**kwargs)\n",
    "\n",
    "    def build(self, input_shape):\n",
    "        self.W = self.add_weight(name='att_weight',\n",
    "                                 shape=(input_shape[-1], 1),\n",
    "                                 initializer='random_normal',\n",
    "                                 trainable=True)\n",
    "        self.b = self.add_weight(name='att_bias',\n",
    "                                 shape=(input_shape[1], 1),\n",
    "                                 initializer='zeros',\n",
    "                                 trainable=True)\n",
    "        super(Attention, self).build(input_shape)\n",
    "\n",
    "    def call(self, x):\n",
    "        e = K.tanh(K.dot(x, self.W) + self.b)\n",
    "        a = K.softmax(e, axis=1)\n",
    "        output = x * a\n",
    "        return K.sum(output, axis=1)\n",
    "\n",
    "# Input\n",
    "inputs = Input(shape=(30, 78))\n",
    "\n",
    "# BiLSTM\n",
    "x = Bidirectional(LSTM(73, return_sequences=True))(inputs)\n",
    "x = Dropout(0.2)(x)\n",
    "x = Bidirectional(LSTM(73, return_sequences=True))(x)\n",
    "x = Dropout(0.2)(x)\n",
    "\n",
    "# Attention\n",
    "x = Attention()(x)\n",
    "\n",
    "# Fully Connected Layers\n",
    "x = Dense(64, activation='relu')(x)\n",
    "outputs = Dense(y_train.shape[1], activation='softmax')(x)\n",
    "\n",
    "# Build Model\n",
    "model_attn = Model(inputs, outputs)\n",
    "model_attn.compile(optimizer='adam', loss='categorical_crossentropy', metrics=['accuracy'])\n",
    "model_attn.summary()\n"
   ]
  },
  {
   "cell_type": "code",
   "execution_count": null,
   "id": "3576c5e6",
   "metadata": {},
   "outputs": [],
   "source": [
    "history = model_attn.fit(X_train, y_train,\n",
    "                    validation_split=0.2,\n",
    "                    epochs=20,\n",
    "                    batch_size=54,\n",
    "                    verbose=1)\n",
    "test_loss, test_acc = model_attn.evaluate(X_test, y_test)"
   ]
  },
  {
   "cell_type": "code",
   "execution_count": null,
   "id": "f9ee02c9",
   "metadata": {},
   "outputs": [],
   "source": [
    "print(f\"\\n✅ Test Accuracy: {test_acc:.4f}\")\n",
    "\n",
    "# Save model\n",
    "model_attn.save(\"attn_model.h5\")\n",
    "# model_tcn.summary()"
   ]
  },
  {
   "cell_type": "code",
   "execution_count": null,
   "id": "d236f2b8",
   "metadata": {},
   "outputs": [],
   "source": [
    "import matplotlib.pyplot as plt\n",
    "\n",
    "# Plot Accuracy Graph\n",
    "plt.plot(history.history['accuracy'], label='Train Accuracy')\n",
    "plt.plot(history.history['val_accuracy'], label='Validation Accuracy')\n",
    "plt.title('Training and Validation Accuracy')\n",
    "plt.xlabel('Epoch')\n",
    "plt.ylabel('Accuracy')\n",
    "plt.legend()\n",
    "plt.grid(True)\n",
    "plt.show()"
   ]
  },
  {
   "cell_type": "code",
   "execution_count": null,
   "id": "c04e7366",
   "metadata": {},
   "outputs": [],
   "source": [
    "from sklearn.metrics import confusion_matrix, ConfusionMatrixDisplay\n",
    "\n",
    "# Evaluate on test set\n",
    "y_pred_probs = model_attn.predict(X_test)\n",
    "y_pred = np.argmax(y_pred_probs, axis=1)\n",
    "y_true = np.argmax(y_test, axis=1)\n",
    "\n",
    "# Confusion Matrix\n",
    "cm = confusion_matrix(y_true, y_pred)\n",
    "disp = ConfusionMatrixDisplay(confusion_matrix=cm)\n",
    "disp.plot(cmap=plt.cm.Blues)\n",
    "plt.title('Confusion Matrix')\n",
    "plt.show()"
   ]
  },
  {
   "cell_type": "markdown",
   "id": "e95d10e9",
   "metadata": {},
   "source": [
    "BiLSTM + Multi-Head Attention (Transformer-style)"
   ]
  },
  {
   "cell_type": "code",
   "execution_count": null,
   "id": "017c9f76",
   "metadata": {},
   "outputs": [],
   "source": [
    "from tensorflow.keras.models import Model\n",
    "from tensorflow.keras.layers import Input, Bidirectional, LSTM, Dropout, Dense, LayerNormalization, MultiHeadAttention, GlobalAveragePooling1D, Add\n",
    "\n",
    "# Input\n",
    "inputs = Input(shape=(30, 78))\n",
    "\n",
    "# BiLSTM encoder\n",
    "x = Bidirectional(LSTM(128, return_sequences=True))(inputs)\n",
    "x = Dropout(0.3)(x)\n",
    "\n",
    "# Multi-Head Self-Attention\n",
    "attn_output = MultiHeadAttention(num_heads=4, key_dim=64)(x, x)\n",
    "x = Add()([x, attn_output])  # Residual\n",
    "x = LayerNormalization()(x)\n",
    "\n",
    "# Global Average Pooling\n",
    "x = GlobalAveragePooling1D()(x)\n",
    "\n",
    "# Dense Layers\n",
    "x = Dense(128, activation='relu')(x)\n",
    "x = Dropout(0.3)(x)\n",
    "x = Dense(64, activation='relu')(x)\n",
    "outputs = Dense(y_train.shape[1], activation='softmax')(x)\n",
    "\n",
    "# Model\n",
    "model_mha = Model(inputs, outputs)\n",
    "model_mha.compile(optimizer='adam', loss='categorical_crossentropy', metrics=['accuracy'])\n",
    "model_mha.summary()\n"
   ]
  },
  {
   "cell_type": "code",
   "execution_count": null,
   "id": "9ed79a5e",
   "metadata": {},
   "outputs": [],
   "source": [
    "history = model_mha.fit(X_train, y_train,\n",
    "                    validation_split=0.2,\n",
    "                    epochs=20,\n",
    "                    batch_size=54,\n",
    "                    verbose=1)\n",
    "test_loss, test_acc = model_mha.evaluate(X_test, y_test)"
   ]
  },
  {
   "cell_type": "code",
   "execution_count": null,
   "id": "280c3019",
   "metadata": {},
   "outputs": [],
   "source": [
    "print(f\"\\n✅ Test Accuracy: {test_acc:.4f}\")\n",
    "\n",
    "# Save model\n",
    "model_mha.save(\"mha_model.h5\")\n",
    "# model_tcn.summary()"
   ]
  },
  {
   "cell_type": "code",
   "execution_count": null,
   "id": "c6c1ea0e",
   "metadata": {},
   "outputs": [],
   "source": [
    "import matplotlib.pyplot as plt\n",
    "\n",
    "# Plot Accuracy Graph\n",
    "plt.plot(history.history['accuracy'], label='Train Accuracy')\n",
    "plt.plot(history.history['val_accuracy'], label='Validation Accuracy')\n",
    "plt.title('Training and Validation Accuracy')\n",
    "plt.xlabel('Epoch')\n",
    "plt.ylabel('Accuracy')\n",
    "plt.legend()\n",
    "plt.grid(True)\n",
    "plt.show()"
   ]
  },
  {
   "cell_type": "code",
   "execution_count": null,
   "id": "faca7a80",
   "metadata": {},
   "outputs": [],
   "source": [
    "from sklearn.metrics import confusion_matrix, ConfusionMatrixDisplay\n",
    "\n",
    "# Evaluate on test set\n",
    "y_pred_probs = model_mha.predict(X_test)\n",
    "y_pred = np.argmax(y_pred_probs, axis=1)\n",
    "y_true = np.argmax(y_test, axis=1)\n",
    "\n",
    "# Confusion Matrix\n",
    "cm = confusion_matrix(y_true, y_pred)\n",
    "disp = ConfusionMatrixDisplay(confusion_matrix=cm)\n",
    "disp.plot(cmap=plt.cm.Blues)\n",
    "plt.title('Confusion Matrix')\n",
    "plt.show()"
   ]
  },
  {
   "cell_type": "markdown",
   "id": "551d32c2",
   "metadata": {},
   "source": [
    "BiLSTM + Custom ContextAttention model with return_attention=True"
   ]
  },
  {
   "cell_type": "code",
   "execution_count": 28,
   "id": "6258f3bc",
   "metadata": {},
   "outputs": [],
   "source": [
    "from tensorflow.keras.layers import Layer\n",
    "import tensorflow.keras.backend as K\n",
    "\n",
    "class ContextAttention(Layer):\n",
    "    def __init__(self, return_attention=False, **kwargs):\n",
    "        super(ContextAttention, self).__init__(**kwargs)\n",
    "        self.return_attention = return_attention\n",
    "\n",
    "    def build(self, input_shape):\n",
    "        self.W = self.add_weight(name='att_weight',\n",
    "                                 shape=(input_shape[-1], input_shape[-1]),\n",
    "                                 initializer='glorot_uniform',\n",
    "                                 trainable=True)\n",
    "        self.u = self.add_weight(name='context_vector',\n",
    "                                 shape=(input_shape[-1], 1),\n",
    "                                 initializer='glorot_uniform',\n",
    "                                 trainable=True)\n",
    "        super(ContextAttention, self).build(input_shape)\n",
    "\n",
    "    def call(self, x):\n",
    "        u_t = K.tanh(K.dot(x, self.W))               # shape: (batch, time, features)\n",
    "        att = K.dot(u_t, self.u)                     # shape: (batch, time, 1)\n",
    "        att = K.softmax(att, axis=1)                 # shape: (batch, time, 1)\n",
    "        weighted_input = x * att                     # shape: (batch, time, features)\n",
    "        output = K.sum(weighted_input, axis=1)       # shape: (batch, features)\n",
    "        if self.return_attention:\n",
    "            return [output, att]\n",
    "        return output\n"
   ]
  },
  {
   "cell_type": "code",
   "execution_count": 34,
   "id": "2f217c4b",
   "metadata": {},
   "outputs": [
    {
     "name": "stdout",
     "output_type": "stream",
     "text": [
      "Model: \"model_1\"\n",
      "_________________________________________________________________\n",
      " Layer (type)                Output Shape              Param #   \n",
      "=================================================================\n",
      " input_2 (InputLayer)        [(None, 30, 78)]          0         \n",
      "                                                                 \n",
      " bidirectional_6 (Bidirectio  (None, 30, 256)          211968    \n",
      " nal)                                                            \n",
      "                                                                 \n",
      " dropout_6 (Dropout)         (None, 30, 256)           0         \n",
      "                                                                 \n",
      " bidirectional_7 (Bidirectio  (None, 30, 256)          394240    \n",
      " nal)                                                            \n",
      "                                                                 \n",
      " dropout_7 (Dropout)         (None, 30, 256)           0         \n",
      "                                                                 \n",
      " context_attention (ContextA  [(None, 256),            65792     \n",
      " ttention)                    (None, 30, 1)]                     \n",
      "                                                                 \n",
      " dense_6 (Dense)             (None, 128)               32896     \n",
      "                                                                 \n",
      " dropout_8 (Dropout)         (None, 128)               0         \n",
      "                                                                 \n",
      " dense_7 (Dense)             (None, 64)                8256      \n",
      "                                                                 \n",
      " predictions (Dense)         (None, 4)                 260       \n",
      "                                                                 \n",
      "=================================================================\n",
      "Total params: 713,412\n",
      "Trainable params: 713,412\n",
      "Non-trainable params: 0\n",
      "_________________________________________________________________\n"
     ]
    }
   ],
   "source": [
    "# Input shape = (timesteps=30, features=78)\n",
    "inputs = Input(shape=(30, 78))\n",
    "\n",
    "# BiLSTM layers\n",
    "x = Bidirectional(LSTM(128, return_sequences=True))(inputs)\n",
    "x = Dropout(0.3)(x)\n",
    "x = Bidirectional(LSTM(128, return_sequences=True))(x)\n",
    "x = Dropout(0.3)(x)\n",
    "\n",
    "# Attention layer (returns both output and attention weights)\n",
    "att_output, att_weights = ContextAttention(return_attention=True, name='context_attention')(x)\n",
    "\n",
    "# Dense layers for classification\n",
    "x = Dense(128, activation='relu')(att_output)\n",
    "x = Dropout(0.3)(x)\n",
    "x = Dense(64, activation='relu')(x)\n",
    "preds = Dense(y_train.shape[1], activation='softmax', name='predictions')(x)\n",
    "\n",
    "# Full model with both outputs\n",
    "model_attn = Model(inputs=inputs, outputs=[preds, att_weights])\n",
    "\n",
    "# Compile model with classification loss\n",
    "model_attn.compile(optimizer='adam',\n",
    "                   loss='categorical_crossentropy',\n",
    "                   metrics=['accuracy'])\n",
    "\n",
    "model_attn.summary()\n"
   ]
  },
  {
   "cell_type": "code",
   "execution_count": 30,
   "id": "c8c0c11d",
   "metadata": {},
   "outputs": [
    {
     "ename": "NameError",
     "evalue": "name 'Model' is not defined",
     "output_type": "error",
     "traceback": [
      "\u001b[1;31m---------------------------------------------------------------------------\u001b[0m",
      "\u001b[1;31mNameError\u001b[0m                                 Traceback (most recent call last)",
      "Cell \u001b[1;32mIn [30], line 2\u001b[0m\n\u001b[0;32m      1\u001b[0m \u001b[38;5;66;03m# Model for training (only the class predictions)\u001b[39;00m\n\u001b[1;32m----> 2\u001b[0m model_train \u001b[38;5;241m=\u001b[39m \u001b[43mModel\u001b[49m(inputs\u001b[38;5;241m=\u001b[39minputs, outputs\u001b[38;5;241m=\u001b[39mpreds)\n\u001b[0;32m      4\u001b[0m model_train\u001b[38;5;241m.\u001b[39mcompile(optimizer\u001b[38;5;241m=\u001b[39m\u001b[38;5;124m'\u001b[39m\u001b[38;5;124madam\u001b[39m\u001b[38;5;124m'\u001b[39m,\n\u001b[0;32m      5\u001b[0m                     loss\u001b[38;5;241m=\u001b[39m\u001b[38;5;124m'\u001b[39m\u001b[38;5;124mcategorical_crossentropy\u001b[39m\u001b[38;5;124m'\u001b[39m,\n\u001b[0;32m      6\u001b[0m                     metrics\u001b[38;5;241m=\u001b[39m[\u001b[38;5;124m'\u001b[39m\u001b[38;5;124maccuracy\u001b[39m\u001b[38;5;124m'\u001b[39m])\n\u001b[0;32m      8\u001b[0m model_train\u001b[38;5;241m.\u001b[39msummary()\n",
      "\u001b[1;31mNameError\u001b[0m: name 'Model' is not defined"
     ]
    }
   ],
   "source": [
    "# Model for training (only the class predictions)\n",
    "model_train = Model(inputs=inputs, outputs=preds)\n",
    "\n",
    "model_train.compile(optimizer='adam',\n",
    "                    loss='categorical_crossentropy',\n",
    "                    metrics=['accuracy'])\n",
    "\n",
    "model_train.summary()\n"
   ]
  },
  {
   "cell_type": "code",
   "execution_count": null,
   "id": "45274405",
   "metadata": {},
   "outputs": [],
   "source": [
    "history = model_train.fit(X_train, y_train,\n",
    "                          validation_split=0.2,\n",
    "                          epochs=20,\n",
    "                          batch_size=54,\n",
    "                          verbose=1)\n"
   ]
  },
  {
   "cell_type": "code",
   "execution_count": null,
   "id": "163994a2",
   "metadata": {},
   "outputs": [],
   "source": [
    "# Evaluate on test data\n",
    "test_loss, test_acc = model_train.evaluate(X_test, y_test, verbose=0)\n",
    "print(f\"\\n✅ Test Accuracy: {test_acc:.4f}\")\n",
    "model_train.save(\"training_model.h5\")\n"
   ]
  },
  {
   "cell_type": "code",
   "execution_count": null,
   "id": "721e34bc",
   "metadata": {},
   "outputs": [],
   "source": [
    "plt.plot(history.history['accuracy'], label='Train Accuracy')\n",
    "plt.plot(history.history['val_accuracy'], label='Validation Accuracy')\n",
    "plt.title('Training and Validation Accuracy')\n",
    "plt.xlabel('Epoch')\n",
    "plt.ylabel('Accuracy')\n",
    "plt.legend()\n",
    "plt.grid(True)\n",
    "plt.show()\n"
   ]
  },
  {
   "cell_type": "code",
   "execution_count": null,
   "id": "50cc05df",
   "metadata": {},
   "outputs": [],
   "source": [
    "# Predict on test data using model_train\n",
    "y_pred_probs = model_train.predict(X_test)\n",
    "y_pred = np.argmax(y_pred_probs, axis=1)\n",
    "y_true = np.argmax(y_test, axis=1)\n",
    "\n",
    "cm = confusion_matrix(y_true, y_pred)\n",
    "disp = ConfusionMatrixDisplay(confusion_matrix=cm)\n",
    "disp.plot(cmap=plt.cm.Blues)\n",
    "plt.title('Confusion Matrix')\n",
    "plt.show()\n"
   ]
  },
  {
   "cell_type": "code",
   "execution_count": 35,
   "id": "011d0bd7",
   "metadata": {},
   "outputs": [],
   "source": [
    "def predict_and_plot_attention(model, sample, class_names=None):\n",
    "    preds, att_weights = model.predict(sample)\n",
    "    predicted_class = np.argmax(preds[0])\n",
    "    att_weights = att_weights.squeeze()  # remove singleton dimension\n",
    "    \n",
    "    # Plot attention over time steps\n",
    "    plt.figure(figsize=(10, 4))\n",
    "    plt.plot(att_weights, marker='o')\n",
    "    plt.title(f\"Attention Over Time — Predicted: {class_names[predicted_class] if class_names else predicted_class}\")\n",
    "    plt.xlabel(\"Frame\")\n",
    "    plt.ylabel(\"Attention Weight\")\n",
    "    plt.grid(True)\n",
    "    plt.tight_layout()\n",
    "    plt.show()\n",
    "    \n",
    "    return predicted_class\n"
   ]
  },
  {
   "cell_type": "code",
   "execution_count": 53,
   "id": "7043f932",
   "metadata": {},
   "outputs": [
    {
     "name": "stdout",
     "output_type": "stream",
     "text": [
      "1/1 [==============================] - 0s 66ms/step\n"
     ]
    },
    {
     "data": {
      "image/png": "[encoded data removed]",
      "text/plain": [
       "<Figure size 1000x400 with 1 Axes>"
      ]
     },
     "metadata": {},
     "output_type": "display_data"
    },
    {
     "data": {
      "text/plain": [
       "2"
      ]
     },
     "execution_count": 53,
     "metadata": {},
     "output_type": "execute_result"
    }
   ],
   "source": [
    "sample = X_test[35:36]  # shape: (1, 30, 78)\n",
    "class_names = ['squat', 'pushup', 'shoulder_press', 'bicep_curl']  # example class names\n",
    "predict_and_plot_attention(model_attn, sample, class_names=class_names)"
   ]
  },
  {
   "cell_type": "code",
   "execution_count": null,
   "id": "bce7bfd2",
   "metadata": {},
   "outputs": [],
   "source": []
  }
 ],
 "metadata": {
  "kernelspec": {
   "display_name": "Python 3",
   "language": "python",
   "name": "python3"
  },
  "language_info": {
   "codemirror_mode": {
    "name": "ipython",
    "version": 3
   },
   "file_extension": ".py",
   "mimetype": "text/x-python",
   "name": "python",
   "nbconvert_exporter": "python",
   "pygments_lexer": "ipython3",
   "version": "3.10.4"
  }
 },
 "nbformat": 4,
 "nbformat_minor": 5
}
